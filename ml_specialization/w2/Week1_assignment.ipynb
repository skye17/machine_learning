{
 "cells": [
  {
   "cell_type": "code",
   "execution_count": 76,
   "metadata": {
    "collapsed": false
   },
   "outputs": [],
   "source": [
    "# 1 Text similarity\n",
    "import numpy as np\n",
    "import re\n",
    "from scipy.spatial import distance"
   ]
  },
  {
   "cell_type": "code",
   "execution_count": 77,
   "metadata": {
    "collapsed": false
   },
   "outputs": [
    {
     "data": {
      "text/plain": [
       "<open file 'sentences.txt', mode 'r' at 0x7f4e0c146660>"
      ]
     },
     "execution_count": 77,
     "metadata": {},
     "output_type": "execute_result"
    }
   ],
   "source": [
    "text = open('sentences.txt', 'r')\n",
    "text"
   ]
  },
  {
   "cell_type": "code",
   "execution_count": 78,
   "metadata": {
    "collapsed": false
   },
   "outputs": [
    {
     "name": "stdout",
     "output_type": "stream",
     "text": [
      "{0: 'displays', 1: 'osx', 2: 'selection', 3: 'safari', 4: 'just', 5: 'developed', 6: 'over', 7: 'vermin', 8: 'domestic', 9: 'named', 10: 'installed', 11: 'symbols', 12: 'through', 13: 'human', 14: 'world', 15: 'disk', 16: 'its', 17: 'fifth', 18: 'features', 19: 'tamed', 20: 'upgrade', 21: 'lb', 22: 'drive', 23: 'to', 24: 'won', 25: 'deliberately', 26: 'marks', 27: 'has', 28: 'predecessor', 29: 'non', 30: 'which', 31: 'read', 32: 'october', 33: 'every', 34: 'os', 35: 'they', 36: 'not', 37: 'during', 38: 'now', 39: 'possess', 40: 'intel', 41: 'keyboards', 42: 'bytes', 43: 'unnecessary', 44: 'patch', 45: 'predators', 46: 'small', 47: 'output', 48: 'entirely', 49: 'where', 50: 'ears', 51: 'available', 52: 'on', 53: 'often', 54: 'sequence', 55: 'some', 56: 'lion', 57: 'frequency', 58: 'are', 59: 'year', 60: 'download', 61: 'terms', 62: 'concern', 63: 'error', 64: 'for', 65: 'pipes', 66: 'since', 67: 'factory', 68: 'artificial', 69: 'content', 70: 'version', 71: 'run', 72: 'between', 73: 'new', 74: 'learned', 75: 'three', 76: 'piped', 77: 'common', 78: 'concatenate', 79: 'be', 80: 'weighing', 81: 'genes', 82: 'use', 83: 'standard', 84: 'release', 85: 'diploid', 86: 'members', 87: 'x', 88: 'based', 89: 'safer', 90: 'by', 91: 'both', 92: 'commands', 93: 'installation', 94: 'installs', 95: 'of', 96: 'needing', 97: 'allows', 98: 'according', 99: 'july', 100: 'later', 101: 'mac', 102: 's', 103: 'streams', 104: 'receives', 105: 'successor', 106: 'catenates', 107: 'changes', 108: 'or', 109: 'felis', 110: 'major', 111: 'faint', 112: 'useful', 113: 'apple', 114: 'app', 115: 'community', 116: 'one', 117: 'running', 118: 'unix', 119: 'right', 120: 'simply', 121: 'linux', 122: 'sounds', 123: 'size', 124: 'undergone', 125: 'delete', 126: 'from', 127: 'enhancements', 128: 'second', 129: 'their', 130: 'create', 131: 'people', 132: 'two', 133: 't', 134: 'redirection', 135: 'however', 136: 'cats', 137: 'too', 138: 'basic', 139: 'permanently', 140: 'type', 141: 'dogs', 142: 'store', 143: 'more', 144: 'files', 145: 'releases', 146: 'that', 147: 'started', 148: 'contains', 149: 'releasing', 150: 'tiger', 151: 'released', 152: 'part', 153: 'hear', 154: 'external', 155: 'editions', 156: 'off', 157: 'mice', 158: 'with', 159: 'than', 160: 'those', 161: 'longer', 162: 'count', 163: 'made', 164: 'animals', 165: 'mavericks', 166: 'versions', 167: 'default', 168: 'was', 169: 'single', 170: 'cat', 171: 'will', 172: 'can', 173: 'were', 174: 'wild', 175: 'similar', 176: 'interactive', 177: 'and', 178: 'mountain', 179: 'computers', 180: 'have', 181: 'stdout', 182: 'process', 183: 'lines', 184: 'is', 185: 'received', 186: 'moved', 187: 'it', 188: 'an', 189: 'high', 190: 'as', 191: 'incremental', 192: 'file', 193: 'in', 194: 'need', 195: 'domesticated', 196: 'any', 197: 'domestication', 198: 'if', 199: 'binary', 200: 'processors', 201: 'no', 202: 'rather', 203: 'legibility', 204: 'separate', 205: 'firmware', 206: 'when', 207: 'mid', 208: 'also', 209: 'other', 210: 'arguments', 211: 'adjacent', 212: 'online', 213: 'instead', 214: 'you', 215: 'ancestor', 216: 'offered', 217: 'used', 218: 'chromosomes', 219: 'closest', 220: 'information', 221: 'may', 222: 'symbol', 223: 'leopard', 224: 'update', 225: 'most', 226: 'wrong', 227: 'connected', 228: 'yosemite', 229: 'such', 230: 'comparison', 231: 'recent', 232: 'a', 233: 'purchase', 234: 'genus', 235: 'kg', 236: 'organisms', 237: 'using', 238: 'starting', 239: 'clear', 240: 'stdin', 241: 'flow', 242: 'roughly', 243: 'so', 244: 'switch', 245: 'without', 246: 'command', 247: 'place', 248: 'allow', 249: 'time', 250: 'redirected', 251: 'the', 252: 'typically', 253: 'left'}\n"
     ]
    }
   ],
   "source": [
    "lines = [[word for word in re.split('[^a-z]', line.lower()) if word] for line in text]\n",
    "all_words_set = set((word for sentence in lines for word in sentence ))\n",
    "\n",
    "all_words = {i:word for (i, word) in enumerate(list(all_words_set))}\n",
    "print all_words"
   ]
  },
  {
   "cell_type": "code",
   "execution_count": null,
   "metadata": {
    "collapsed": false
   },
   "outputs": [],
   "source": []
  },
  {
   "cell_type": "code",
   "execution_count": 79,
   "metadata": {
    "collapsed": false
   },
   "outputs": [],
   "source": [
    "count = [[lines[i].count(all_words[j]) for j in xrange(len(all_words))] for i in xrange(len(lines)) ]"
   ]
  },
  {
   "cell_type": "code",
   "execution_count": 80,
   "metadata": {
    "collapsed": false
   },
   "outputs": [
    {
     "data": {
      "text/plain": [
       "22"
      ]
     },
     "execution_count": 80,
     "metadata": {},
     "output_type": "execute_result"
    }
   ],
   "source": [
    "np_count = np.array(count)\n",
    "np_count.shape[0]"
   ]
  },
  {
   "cell_type": "code",
   "execution_count": 81,
   "metadata": {
    "collapsed": false
   },
   "outputs": [],
   "source": [
    "cosine_distances = [(scipy.spatial.distance.cosine(np_count[0, ], np_count[i, ]), i) for i in xrange(1,np_count.shape[0])]"
   ]
  },
  {
   "cell_type": "code",
   "execution_count": 82,
   "metadata": {
    "collapsed": false
   },
   "outputs": [
    {
     "data": {
      "text/plain": [
       "[(0.7327387580875756, 6),\n",
       " (0.77708871496985887, 4),\n",
       " (0.82503644694405864, 21),\n",
       " (0.83281653622739416, 10),\n",
       " (0.83964325485254543, 12),\n",
       " (0.84063618542208085, 16),\n",
       " (0.84275727449171223, 20),\n",
       " (0.86447381456421235, 2),\n",
       " (0.87035925528956715, 13),\n",
       " (0.87401184233025764, 14),\n",
       " (0.88047713906656067, 11),\n",
       " (0.88427248752843102, 8),\n",
       " (0.88854435748492944, 19),\n",
       " (0.89517151632780823, 3),\n",
       " (0.90550888174769317, 9),\n",
       " (0.92587506833388988, 7),\n",
       " (0.94023856953328033, 5),\n",
       " (0.94427217874246472, 15),\n",
       " (0.94427217874246472, 18),\n",
       " (0.95275444087384664, 1),\n",
       " (0.95664450152379399, 17)]"
      ]
     },
     "execution_count": 82,
     "metadata": {},
     "output_type": "execute_result"
    }
   ],
   "source": [
    "sorted_distances =sorted(cosine_distances)\n",
    "sorted_distances"
   ]
  },
  {
   "cell_type": "code",
   "execution_count": 84,
   "metadata": {
    "collapsed": false
   },
   "outputs": [
    {
     "name": "stdout",
     "output_type": "stream",
     "text": [
      "in comparison to dogs cats have not undergone major changes during the domestication process\n",
      "domestic cats are similar in size to the other members of the genus felis typically weighing between and kg and lb\n",
      "in one people deliberately tamed cats in a process of artificial selection as they were useful predators of vermin\n"
     ]
    }
   ],
   "source": [
    "print ' '.join(lines[0])\n",
    "print ' '.join(lines[6])\n",
    "print ' '.join(lines[4])"
   ]
  },
  {
   "cell_type": "code",
   "execution_count": null,
   "metadata": {
    "collapsed": true
   },
   "outputs": [],
   "source": []
  },
  {
   "cell_type": "code",
   "execution_count": 172,
   "metadata": {
    "collapsed": false
   },
   "outputs": [],
   "source": [
    "#2 Approximation\n",
    "%matplotlib inline\n",
    "import math\n",
    "import matplotlib.pyplot as plt\n"
   ]
  },
  {
   "cell_type": "code",
   "execution_count": 177,
   "metadata": {
    "collapsed": true
   },
   "outputs": [],
   "source": [
    "# f(x) = sin(x / 5) * exp(x / 10) + 5 * exp(-x / 2)\n",
    "\n",
    "def f(x):\n",
    "    return math.sin(x / 5.) * math.exp(x / 10.) + 5 * math.exp(-x / 2.)\n",
    "\n",
    "def polynom(coefs):\n",
    "    def poly(x):\n",
    "        return sum((coef* x**i for (i, coef) in enumerate(coefs)))\n",
    "    return poly"
   ]
  },
  {
   "cell_type": "code",
   "execution_count": 178,
   "metadata": {
    "collapsed": false
   },
   "outputs": [
    {
     "data": {
      "image/png": "[encoded data removed]",
      "text/plain": [
       "<matplotlib.figure.Figure at 0x7f4df1a1fad0>"
      ]
     },
     "metadata": {},
     "output_type": "display_data"
    }
   ],
   "source": [
    "x_val = np.arange(0, 16, 0.1)\n",
    "y_val = np.array([f(x) for x in x_val])\n",
    "plt.plot(x_val, y_val)\n",
    "plt.show()"
   ]
  },
  {
   "cell_type": "code",
   "execution_count": 179,
   "metadata": {
    "collapsed": false
   },
   "outputs": [],
   "source": [
    "# First degree polynom\n",
    "A =  np.array([[1, 1], [1, 15]])\n",
    "b = np.array([f(1), f(15)])"
   ]
  },
  {
   "cell_type": "code",
   "execution_count": 180,
   "metadata": {
    "collapsed": false
   },
   "outputs": [
    {
     "data": {
      "text/plain": [
       "array([ 3.43914511, -0.18692825])"
      ]
     },
     "execution_count": 180,
     "metadata": {},
     "output_type": "execute_result"
    }
   ],
   "source": [
    "import scipy\n",
    "from scipy import linalg\n",
    "coefs1 = linalg.solve(A, b)\n",
    "coefs1"
   ]
  },
  {
   "cell_type": "code",
   "execution_count": 182,
   "metadata": {
    "collapsed": false
   },
   "outputs": [
    {
     "data": {
      "image/png": "[encoded data removed]",
      "text/plain": [
       "<matplotlib.figure.Figure at 0x7f4df19988d0>"
      ]
     },
     "metadata": {},
     "output_type": "display_data"
    }
   ],
   "source": [
    "polynom1 = polynom(coefs1)\n",
    "y_new1 = np.array(polynom1(x_val))\n",
    "plt.plot(x_val, y_val,'b',x_val, y_new1, 'r')\n",
    "plt.show()"
   ]
  },
  {
   "cell_type": "code",
   "execution_count": 183,
   "metadata": {
    "collapsed": false
   },
   "outputs": [
    {
     "data": {
      "text/plain": [
       "array([ 3.32512949, -0.06531159, -0.00760104])"
      ]
     },
     "execution_count": 183,
     "metadata": {},
     "output_type": "execute_result"
    }
   ],
   "source": [
    "# Second degree\n",
    "A2 = np.array([[1, 1, 1], [1, 8, 64], [1, 15, 225]])\n",
    "b2 = np.array([f(1), f(8), f(15)])\n",
    "coefs2 = linalg.solve(A2, b2)\n",
    "coefs2"
   ]
  },
  {
   "cell_type": "code",
   "execution_count": 184,
   "metadata": {
    "collapsed": false
   },
   "outputs": [
    {
     "data": {
      "image/png": "[encoded data removed]",
      "text/plain": [
       "<matplotlib.figure.Figure at 0x7f4df1f2d090>"
      ]
     },
     "metadata": {},
     "output_type": "display_data"
    }
   ],
   "source": [
    "polynom2 = polynom(coefs2)\n",
    "y_new2 = np.array(polynom2(x_val))\n",
    "plt.plot(x_val, y_val,'b',x_val, y_new2, 'r')\n",
    "plt.show()"
   ]
  },
  {
   "cell_type": "code",
   "execution_count": 187,
   "metadata": {
    "collapsed": false
   },
   "outputs": [
    {
     "name": "stdout",
     "output_type": "stream",
     "text": [
      "[ 4.36264154 -1.29552587  0.19333685 -0.00823565]\n"
     ]
    },
    {
     "data": {
      "image/png": "[encoded data removed]",
      "text/plain": [
       "<matplotlib.figure.Figure at 0x7f4df1a181d0>"
      ]
     },
     "metadata": {},
     "output_type": "display_data"
    }
   ],
   "source": [
    "# Third degree\n",
    "A3 = np.array([[1, 1, 1, 1], [1, 4, 16, 64], [1, 10, 100, 1000], [1, 15, 225, 3375]])\n",
    "b3 = np.array([f(1), f(4), f(10), f(15)])\n",
    "coefs3 = linalg.solve(A3, b3)\n",
    "print coefs3\n",
    "polynom3 = polynom(coefs3)\n",
    "y_new3 = np.array(polynom3(x_val))\n",
    "plt.plot(x_val, y_val,'b',x_val, y_new3, 'r')\n",
    "plt.show()"
   ]
  },
  {
   "cell_type": "code",
   "execution_count": null,
   "metadata": {
    "collapsed": true
   },
   "outputs": [],
   "source": []
  }
 ],
 "metadata": {
  "kernelspec": {
   "display_name": "Python 2",
   "language": "python",
   "name": "python2"
  },
  "language_info": {
   "codemirror_mode": {
    "name": "ipython",
    "version": 2
   },
   "file_extension": ".py",
   "mimetype": "text/x-python",
   "name": "python",
   "nbconvert_exporter": "python",
   "pygments_lexer": "ipython2",
   "version": "2.7.10"
  }
 },
 "nbformat": 4,
 "nbformat_minor": 0
}
