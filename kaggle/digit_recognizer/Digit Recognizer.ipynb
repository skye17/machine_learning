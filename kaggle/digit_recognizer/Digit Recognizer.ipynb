{
 "cells": [
  {
   "cell_type": "code",
   "execution_count": 59,
   "metadata": {
    "collapsed": true
   },
   "outputs": [],
   "source": [
    "import matplotlib\n",
    "import matplotlib.pyplot as plt\n",
    "%matplotlib inline\n",
    "import numpy as np\n",
    "import pandas as pd\n",
    "from skimage.io import imread, imsave, imshow\n",
    "from sklearn.cross_validation import train_test_split, cross_val_score\n",
    "import random"
   ]
  },
  {
   "cell_type": "code",
   "execution_count": 2,
   "metadata": {
    "collapsed": false
   },
   "outputs": [],
   "source": [
    "train = pd.read_csv('train.csv')\n",
    "test = pd.read_csv('test.csv')"
   ]
  },
  {
   "cell_type": "code",
   "execution_count": 65,
   "metadata": {
    "collapsed": false
   },
   "outputs": [],
   "source": [
    "train.shape\n",
    "train_target = train['label'].values\n",
    "train_data = train.drop('label', axis = 1).values\n",
    "X_train, X_test, y_train, y_test = train_test_split(train_data, train_target, test_size = 0.8)"
   ]
  },
  {
   "cell_type": "code",
   "execution_count": 4,
   "metadata": {
    "collapsed": false
   },
   "outputs": [
    {
     "name": "stderr",
     "output_type": "stream",
     "text": [
      "/home/skye17/ml/anaconda2/envs/dato-env/lib/python2.7/site-packages/skimage/io/_plugins/matplotlib_plugin.py:71: UserWarning: Non-standard image type; displaying image with stretched contrast.\n",
      "  warnings.warn(\"Non-standard image type; displaying image with \"\n",
      "/home/skye17/ml/anaconda2/envs/dato-env/lib/python2.7/site-packages/skimage/io/_plugins/matplotlib_plugin.py:74: UserWarning: Low image dynamic range; displaying image with stretched contrast.\n",
      "  warnings.warn(\"Low image dynamic range; displaying image with \"\n"
     ]
    },
    {
     "data": {
      "text/plain": [
       "<matplotlib.image.AxesImage at 0x7fe6a65e9910>"
      ]
     },
     "execution_count": 4,
     "metadata": {},
     "output_type": "execute_result"
    },
    {
     "data": {
      "image/png": "[encoded data removed]",
      "text/plain": [
       "<matplotlib.figure.Figure at 0x7fe6a74ba690>"
      ]
     },
     "metadata": {},
     "output_type": "display_data"
    }
   ],
   "source": [
    "imshow(train_data[0].reshape((28, 28)), 'matplotlib', cmap=plt.cm.binary)"
   ]
  },
  {
   "cell_type": "markdown",
   "metadata": {},
   "source": [
    "## Custom Neural Network"
   ]
  },
  {
   "cell_type": "code",
   "execution_count": 66,
   "metadata": {
    "collapsed": false
   },
   "outputs": [],
   "source": [
    "def sigmoid(z):\n",
    "    return 1.0/(1.0 + np.exp(-z))\n",
    "\n",
    "def one_hot(y):\n",
    "    vec = np.zeros(10)\n",
    "    vec[y] = 1\n",
    "    return vec.reshape((vec.size), 1)\n",
    "\n",
    "class Network(object):\n",
    "    \n",
    "    def __init__(self, sizes):\n",
    "        self.num_layers = len(sizes)\n",
    "        self.layers = [np.zeros(y) for y in sizes]\n",
    "        self.sizes = sizes\n",
    "        self.biases = np.array([np.random.randn(y, 1) for y in sizes[1:]])\n",
    "        #print self.biases.shape\n",
    "        self.weights = np.array([np.random.randn(y, x) for x, y in zip(sizes[:-1], sizes[1:])])\n",
    "        #print self.weights.shape\n",
    "        \n",
    "    def feedforward(self, a):\n",
    "        \"\"\"Return the output of the network if \"a\" is input.\"\"\"\n",
    "        a_vec = a.reshape((a.size, 1))\n",
    "        for b, w in zip(self.biases, self.weights):\n",
    "            a_vec = sigmoid(np.dot(w,a_vec) + b)\n",
    "        return a_vec\n",
    "    \n",
    "    def feedforward_save(self, a):\n",
    "        a_vec = a.reshape((a.size, 1))\n",
    "        self.layers[0] = a_vec\n",
    "        i = 1\n",
    "        for b, w in zip(self.biases, self.weights):\n",
    "            a_vec = sigmoid(np.dot(w,a_vec) + b)\n",
    "            self.layers[i] = a_vec\n",
    "            i += 1\n",
    "        return a_vec\n",
    "        \n",
    "    def SGD(self, train_data, target,eta = 1.0, eps = 0.000001):\n",
    "        n, k = train_data.shape\n",
    "        Q = 0.0\n",
    "        diff = 1000\n",
    "        while abs(diff) > eps:\n",
    "            ind = np.random.choice(range(n), 1)\n",
    "            x = train_data[ind].reshape((k, 1))\n",
    "            y_vec = one_hot(target[ind])\n",
    "            # Прямой и обратный ход\n",
    "            out = self.feedforward_save(x)\n",
    "            Q_i = (np.linalg.norm(out - y_vec))**2\n",
    "            delta_nabla_b, delta_nabla_w = self.backprop(out-y_vec)\n",
    "            self.weights = [w-eta*nw\n",
    "                        for w, nw in zip(self.weights, delta_nabla_w)]\n",
    "            self.biases = [b-eta*nb\n",
    "                       for b, nb in zip(self.biases, delta_nabla_b)]\n",
    "            if Q == 0:\n",
    "                Q = Q_i\n",
    "            else:\n",
    "                diff = (Q_i - Q)/n\n",
    "                Q += diff\n",
    "         \n",
    "        \n",
    "    def backprop(self, out_errors):\n",
    "        delta_nabla_b = np.array([np.zeros(b.shape) for b in self.biases])\n",
    "        delta_nabla_w = np.array([np.zeros(w.shape) for w in self.weights])\n",
    "        errors = np.array([np.zeros(size) for size in self.sizes[1:]])\n",
    "        pred = self.layers[self.num_layers - 1]\n",
    "        errors[errors.size - 1] = out_errors\n",
    "        for i in xrange(errors.size - 1, -1, -1):\n",
    "            delta_nabla_b[i] = errors[i]*pred*(1-pred)\n",
    "            delta_nabla_w[i] = np.dot(pred*(1-pred)*errors[i],(self.layers[i]).T)\n",
    "            if i - 1 >= 0:\n",
    "                errors[i-1] = np.dot((self.weights[i]).T, pred*(1-pred)*errors[i])\n",
    "            pred = self.layers[i]\n",
    "        return delta_nabla_b, delta_nabla_w\n",
    "    \n",
    "    def fit(self, X, y):\n",
    "        self.SGD(X, y)\n",
    "        return self\n",
    "    \n",
    "    def predict(self, X_test):\n",
    "        print 'Predict'\n",
    "        return [np.argmax(self.feedforward(x)) for x in X_test]"
   ]
  },
  {
   "cell_type": "code",
   "execution_count": 67,
   "metadata": {
    "collapsed": false
   },
   "outputs": [
    {
     "name": "stdout",
     "output_type": "stream",
     "text": [
      "Predict\n",
      "0.0965178571429\n"
     ]
    }
   ],
   "source": [
    "nn = Network([784, 200,10])\n",
    "nn.fit(X_train, y_train)\n",
    "pred = nn.predict(X_test)\n",
    "accuracy = sum(pred == y_test)*1. / len(y_test)\n",
    "print accuracy"
   ]
  },
  {
   "cell_type": "markdown",
   "metadata": {
    "collapsed": false
   },
   "source": [
    "## Ensemble methods"
   ]
  },
  {
   "cell_type": "code",
   "execution_count": 68,
   "metadata": {
    "collapsed": true
   },
   "outputs": [],
   "source": [
    "from sklearn.ensemble import RandomForestClassifier, GradientBoostingClassifier\n",
    "from sklearn.metrics import accuracy_score"
   ]
  },
  {
   "cell_type": "code",
   "execution_count": 69,
   "metadata": {
    "collapsed": false
   },
   "outputs": [
    {
     "name": "stdout",
     "output_type": "stream",
     "text": [
      "0.947827380952\n"
     ]
    }
   ],
   "source": [
    "clf = RandomForestClassifier(n_estimators  = 100)\n",
    "clf.fit(X_train, y_train)\n",
    "pred = clf.predict(X_test)\n",
    "print accuracy_score(y_test, pred)\n",
    "#scores = cross_val_score(clf, train_data, train_target, cv = 3, scoring = 'accuracy', n_jobs = -1)\n",
    "#print np.mean(scores)"
   ]
  },
  {
   "cell_type": "code",
   "execution_count": 71,
   "metadata": {
    "collapsed": false
   },
   "outputs": [
    {
     "ename": "KeyboardInterrupt",
     "evalue": "",
     "output_type": "error",
     "traceback": [
      "\u001b[1;31m---------------------------------------------------------------------------\u001b[0m",
      "\u001b[1;31mKeyboardInterrupt\u001b[0m                         Traceback (most recent call last)",
      "\u001b[1;32m<ipython-input-71-7b36457114af>\u001b[0m in \u001b[0;36m<module>\u001b[1;34m()\u001b[0m\n\u001b[0;32m      1\u001b[0m \u001b[0mg_clf\u001b[0m \u001b[1;33m=\u001b[0m \u001b[0mGradientBoostingClassifier\u001b[0m\u001b[1;33m(\u001b[0m\u001b[0mn_estimators\u001b[0m \u001b[1;33m=\u001b[0m \u001b[1;36m100\u001b[0m\u001b[1;33m,\u001b[0m \u001b[0mlearning_rate\u001b[0m \u001b[1;33m=\u001b[0m \u001b[1;36m1\u001b[0m\u001b[1;33m)\u001b[0m\u001b[1;33m\u001b[0m\u001b[0m\n\u001b[1;32m----> 2\u001b[1;33m \u001b[0mg_clf\u001b[0m\u001b[1;33m.\u001b[0m\u001b[0mfit\u001b[0m\u001b[1;33m(\u001b[0m\u001b[0mX_train\u001b[0m\u001b[1;33m,\u001b[0m \u001b[0my_train\u001b[0m\u001b[1;33m)\u001b[0m\u001b[1;33m\u001b[0m\u001b[0m\n\u001b[0m\u001b[0;32m      3\u001b[0m \u001b[0mg_pred\u001b[0m \u001b[1;33m=\u001b[0m \u001b[0mg_clf\u001b[0m\u001b[1;33m.\u001b[0m\u001b[0mpredict\u001b[0m\u001b[1;33m(\u001b[0m\u001b[0mX_test\u001b[0m\u001b[1;33m)\u001b[0m\u001b[1;33m\u001b[0m\u001b[0m\n\u001b[0;32m      4\u001b[0m \u001b[1;32mprint\u001b[0m \u001b[0maccuracy_score\u001b[0m\u001b[1;33m(\u001b[0m\u001b[0my_test\u001b[0m\u001b[1;33m,\u001b[0m \u001b[0mg_pred\u001b[0m\u001b[1;33m)\u001b[0m\u001b[1;33m\u001b[0m\u001b[0m\n\u001b[0;32m      5\u001b[0m \u001b[1;31m#scores = cross_val_score(g_clf, train_data, train_target, cv = 3, scoring = 'accuracy', n_jobs = -1)\u001b[0m\u001b[1;33m\u001b[0m\u001b[1;33m\u001b[0m\u001b[0m\n",
      "\u001b[1;32m/home/skye17/ml/anaconda2/envs/dato-env/lib/python2.7/site-packages/sklearn/ensemble/gradient_boosting.pyc\u001b[0m in \u001b[0;36mfit\u001b[1;34m(self, X, y, sample_weight, monitor)\u001b[0m\n\u001b[0;32m    978\u001b[0m         \u001b[1;31m# fit the boosting stages\u001b[0m\u001b[1;33m\u001b[0m\u001b[1;33m\u001b[0m\u001b[0m\n\u001b[0;32m    979\u001b[0m         n_stages = self._fit_stages(X, y, y_pred, sample_weight, random_state,\n\u001b[1;32m--> 980\u001b[1;33m                                     begin_at_stage, monitor)\n\u001b[0m\u001b[0;32m    981\u001b[0m         \u001b[1;31m# change shape of arrays after fit (early-stopping or additional ests)\u001b[0m\u001b[1;33m\u001b[0m\u001b[1;33m\u001b[0m\u001b[0m\n\u001b[0;32m    982\u001b[0m         \u001b[1;32mif\u001b[0m \u001b[0mn_stages\u001b[0m \u001b[1;33m!=\u001b[0m \u001b[0mself\u001b[0m\u001b[1;33m.\u001b[0m\u001b[0mestimators_\u001b[0m\u001b[1;33m.\u001b[0m\u001b[0mshape\u001b[0m\u001b[1;33m[\u001b[0m\u001b[1;36m0\u001b[0m\u001b[1;33m]\u001b[0m\u001b[1;33m:\u001b[0m\u001b[1;33m\u001b[0m\u001b[0m\n",
      "\u001b[1;32m/home/skye17/ml/anaconda2/envs/dato-env/lib/python2.7/site-packages/sklearn/ensemble/gradient_boosting.pyc\u001b[0m in \u001b[0;36m_fit_stages\u001b[1;34m(self, X, y, y_pred, sample_weight, random_state, begin_at_stage, monitor)\u001b[0m\n\u001b[0;32m   1038\u001b[0m             y_pred = self._fit_stage(i, X, y, y_pred, sample_weight,\n\u001b[0;32m   1039\u001b[0m                                      \u001b[0msample_mask\u001b[0m\u001b[1;33m,\u001b[0m \u001b[0mcriterion\u001b[0m\u001b[1;33m,\u001b[0m \u001b[0msplitter\u001b[0m\u001b[1;33m,\u001b[0m\u001b[1;33m\u001b[0m\u001b[0m\n\u001b[1;32m-> 1040\u001b[1;33m                                      random_state)\n\u001b[0m\u001b[0;32m   1041\u001b[0m \u001b[1;33m\u001b[0m\u001b[0m\n\u001b[0;32m   1042\u001b[0m             \u001b[1;31m# track deviance (= loss)\u001b[0m\u001b[1;33m\u001b[0m\u001b[1;33m\u001b[0m\u001b[0m\n",
      "\u001b[1;32m/home/skye17/ml/anaconda2/envs/dato-env/lib/python2.7/site-packages/sklearn/ensemble/gradient_boosting.pyc\u001b[0m in \u001b[0;36m_fit_stage\u001b[1;34m(self, i, X, y, y_pred, sample_weight, sample_mask, criterion, splitter, random_state)\u001b[0m\n\u001b[0;32m    764\u001b[0m \u001b[1;33m\u001b[0m\u001b[0m\n\u001b[0;32m    765\u001b[0m             tree.fit(X, residual, sample_weight=sample_weight,\n\u001b[1;32m--> 766\u001b[1;33m                      check_input=False)\n\u001b[0m\u001b[0;32m    767\u001b[0m \u001b[1;33m\u001b[0m\u001b[0m\n\u001b[0;32m    768\u001b[0m             \u001b[1;31m# update tree leaves\u001b[0m\u001b[1;33m\u001b[0m\u001b[1;33m\u001b[0m\u001b[0m\n",
      "\u001b[1;32m/home/skye17/ml/anaconda2/envs/dato-env/lib/python2.7/site-packages/sklearn/tree/tree.pyc\u001b[0m in \u001b[0;36mfit\u001b[1;34m(self, X, y, sample_weight, check_input)\u001b[0m\n\u001b[0;32m    302\u001b[0m                                            max_leaf_nodes)\n\u001b[0;32m    303\u001b[0m \u001b[1;33m\u001b[0m\u001b[0m\n\u001b[1;32m--> 304\u001b[1;33m         \u001b[0mbuilder\u001b[0m\u001b[1;33m.\u001b[0m\u001b[0mbuild\u001b[0m\u001b[1;33m(\u001b[0m\u001b[0mself\u001b[0m\u001b[1;33m.\u001b[0m\u001b[0mtree_\u001b[0m\u001b[1;33m,\u001b[0m \u001b[0mX\u001b[0m\u001b[1;33m,\u001b[0m \u001b[0my\u001b[0m\u001b[1;33m,\u001b[0m \u001b[0msample_weight\u001b[0m\u001b[1;33m)\u001b[0m\u001b[1;33m\u001b[0m\u001b[0m\n\u001b[0m\u001b[0;32m    305\u001b[0m \u001b[1;33m\u001b[0m\u001b[0m\n\u001b[0;32m    306\u001b[0m         \u001b[1;32mif\u001b[0m \u001b[0mself\u001b[0m\u001b[1;33m.\u001b[0m\u001b[0mn_outputs_\u001b[0m \u001b[1;33m==\u001b[0m \u001b[1;36m1\u001b[0m\u001b[1;33m:\u001b[0m\u001b[1;33m\u001b[0m\u001b[0m\n",
      "\u001b[1;31mKeyboardInterrupt\u001b[0m: "
     ]
    }
   ],
   "source": [
    "g_clf = GradientBoostingClassifier(n_estimators = 100, learning_rate = 1)\n",
    "g_clf.fit(X_train, y_train)\n",
    "g_pred = g_clf.predict(X_test)\n",
    "print accuracy_score(y_test, g_pred)\n",
    "#scores = cross_val_score(g_clf, train_data, train_target, cv = 3, scoring = 'accuracy', n_jobs = -1)\n",
    "#print np.mean(scores)"
   ]
  },
  {
   "cell_type": "markdown",
   "metadata": {},
   "source": [
    "## SVM"
   ]
  },
  {
   "cell_type": "code",
   "execution_count": 72,
   "metadata": {
    "collapsed": true
   },
   "outputs": [],
   "source": [
    "from sklearn.svm import SVC\n",
    "from sklearn.grid_search import GridSearchCV"
   ]
  },
  {
   "cell_type": "code",
   "execution_count": null,
   "metadata": {
    "collapsed": false
   },
   "outputs": [],
   "source": [
    "svm = SVC(kernel = 'linear', C = 0.1)\n",
    "svm.fit(X_train, y_train)\n",
    "s_pred = svm.predict(X_test)\n",
    "print accuracy_score(y_test, s_pred)\n",
    "\n",
    "#params = {'kernel':('linear', 'rbf'), 'C':np.power(10.0, np.arange(-1, 1))}\n",
    "#grid = GridSearchCV(svm, params, scoring = 'accuracy', n_jobs = -1, cv = 3)\n",
    "#grid.fit(X_train, y_train)\n",
    "#print grid.best_estimator_\n",
    "#print grid.best_params_"
   ]
  },
  {
   "cell_type": "code",
   "execution_count": null,
   "metadata": {
    "collapsed": true
   },
   "outputs": [],
   "source": []
  }
 ],
 "metadata": {
  "kernelspec": {
   "display_name": "Python 2",
   "language": "python",
   "name": "python2"
  },
  "language_info": {
   "codemirror_mode": {
    "name": "ipython",
    "version": 2
   },
   "file_extension": ".py",
   "mimetype": "text/x-python",
   "name": "python",
   "nbconvert_exporter": "python",
   "pygments_lexer": "ipython2",
   "version": "2.7.10"
  }
 },
 "nbformat": 4,
 "nbformat_minor": 0
}
