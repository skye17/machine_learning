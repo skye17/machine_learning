{
 "cells": [
  {
   "cell_type": "code",
   "execution_count": 66,
   "metadata": {
    "collapsed": true
   },
   "outputs": [],
   "source": [
    "import matplotlib\n",
    "%matplotlib inline\n",
    "import numpy as np\n",
    "import skimage\n",
    "from sklearn.cluster import KMeans\n",
    "from skimage.io import imread, imshow, imsave"
   ]
  },
  {
   "cell_type": "code",
   "execution_count": 67,
   "metadata": {
    "collapsed": false
   },
   "outputs": [],
   "source": [
    "parrots = imread('parrots.jpg')\n",
    "parrots = skimage.img_as_float(parrots)"
   ]
  },
  {
   "cell_type": "code",
   "execution_count": 55,
   "metadata": {
    "collapsed": false
   },
   "outputs": [
    {
     "name": "stdout",
     "output_type": "stream",
     "text": [
      "474 713\n"
     ]
    }
   ],
   "source": [
    "dim_x, dim_y, _ = parrots.shape\n",
    "print dim_x, dim_y\n",
    "data = np.vstack([parrots[i, j, :] for i in xrange(dim_x) for j in xrange(dim_y)])"
   ]
  },
  {
   "cell_type": "code",
   "execution_count": 5,
   "metadata": {
    "collapsed": false
   },
   "outputs": [
    {
     "data": {
      "text/plain": [
       "KMeans(copy_x=True, init='k-means++', max_iter=300, n_clusters=8, n_init=10,\n",
       "    n_jobs=1, precompute_distances='auto', random_state=241, tol=0.0001,\n",
       "    verbose=0)"
      ]
     },
     "execution_count": 5,
     "metadata": {},
     "output_type": "execute_result"
    }
   ],
   "source": [
    "k_means = KMeans(init = 'k-means++', random_state = 241)\n",
    "k_means.fit(data)"
   ]
  },
  {
   "cell_type": "code",
   "execution_count": 56,
   "metadata": {
    "collapsed": true
   },
   "outputs": [],
   "source": [
    "def psnr(true, recovered):\n",
    "    dim_x, dim_y = true.shape\n",
    "    mse = (np.linalg.norm(true - recovered)**2)/(dim_x * dim_y)\n",
    "    max_i = np.max(np.max(true), np.max(recovered))\n",
    "    psnr = 10 * np.log10(max_i**2/mse)\n",
    "    return psnr"
   ]
  },
  {
   "cell_type": "code",
   "execution_count": 30,
   "metadata": {
    "collapsed": false
   },
   "outputs": [],
   "source": [
    "n_clusters = k_means.n_clusters\n",
    "labels = k_means.labels_"
   ]
  },
  {
   "cell_type": "code",
   "execution_count": 26,
   "metadata": {
    "collapsed": false
   },
   "outputs": [],
   "source": [
    "median_colors = np.vstack([[np.median(data[labels==i], axis = 0)] for i in xrange(n_clusters)])\n",
    "mean_colors = np.vstack([[np.mean(data[labels==i], axis = 0)] for i in xrange(n_clusters)])"
   ]
  },
  {
   "cell_type": "code",
   "execution_count": 31,
   "metadata": {
    "collapsed": false
   },
   "outputs": [],
   "source": [
    "median_t_data = np.vstack([median_colors[label] for label in labels])\n",
    "mean_t_data = np.vstack([mean_colors[label] for label in labels])"
   ]
  },
  {
   "cell_type": "code",
   "execution_count": 37,
   "metadata": {
    "collapsed": false
   },
   "outputs": [
    {
     "name": "stdout",
     "output_type": "stream",
     "text": [
      "1.0\n",
      "1.0\n",
      "18.1814448215 18.484504302\n"
     ]
    }
   ],
   "source": [
    "err_median = psnr(data, median_t_data)\n",
    "err_mean = psnr(data, mean_t_data)\n",
    "print err_median, err_mean"
   ]
  },
  {
   "cell_type": "code",
   "execution_count": 73,
   "metadata": {
    "collapsed": true
   },
   "outputs": [],
   "source": [
    "def find_k(data, lim = 21, scorer = psnr):\n",
    "    for i in xrange(11, lim):\n",
    "        k_means = KMeans(n_clusters = i, init = 'k-means++', random_state = 241)\n",
    "        k_means.fit(data)\n",
    "        n_clusters = k_means.n_clusters\n",
    "        labels = k_means.labels_\n",
    "        median_colors = np.vstack([[np.median(data[labels==i], axis = 0)] for i in xrange(n_clusters)])\n",
    "        mean_colors = np.vstack([[np.mean(data[labels==i], axis = 0)] for i in xrange(n_clusters)])\n",
    "        median_t_data = np.vstack([median_colors[label] for label in labels])\n",
    "        mean_t_data = np.vstack([mean_colors[label] for label in labels])\n",
    "        score_median = scorer(data, median_t_data)\n",
    "        score_mean = scorer(data, mean_t_data)\n",
    "        if min(score_median, score_mean) >= 20.0 :\n",
    "            new_med_img = median_t_data.reshape((474, 713, 3))\n",
    "            new_mean_img = mean_t_data.reshape((474, 713, 3))\n",
    "            return i, score_median, score_mean, new_med_img, new_mean_img\n",
    "    return ':('"
   ]
  },
  {
   "cell_type": "code",
   "execution_count": 74,
   "metadata": {
    "collapsed": false
   },
   "outputs": [
    {
     "name": "stdout",
     "output_type": "stream",
     "text": [
      "11 20.3610339358 20.6517283444\n"
     ]
    }
   ],
   "source": [
    "i, score_median, score_mean, new_med_img, new_mean_img = find_k(data)\n",
    "name_mean = 'mean_'+str(i)+'.jpg'\n",
    "name_med = 'med_'+str(i)+'.jpg'\n",
    "imsave(name_mean, new_mean_img)\n",
    "imsave(name_med, new_med_img)\n",
    "print i, score_median, score_mean"
   ]
  },
  {
   "cell_type": "code",
   "execution_count": null,
   "metadata": {
    "collapsed": true
   },
   "outputs": [],
   "source": []
  },
  {
   "cell_type": "code",
   "execution_count": null,
   "metadata": {
    "collapsed": true
   },
   "outputs": [],
   "source": []
  }
 ],
 "metadata": {
  "kernelspec": {
   "display_name": "Python 2",
   "language": "python",
   "name": "python2"
  },
  "language_info": {
   "codemirror_mode": {
    "name": "ipython",
    "version": 2
   },
   "file_extension": ".py",
   "mimetype": "text/x-python",
   "name": "python",
   "nbconvert_exporter": "python",
   "pygments_lexer": "ipython2",
   "version": "2.7.10"
  }
 },
 "nbformat": 4,
 "nbformat_minor": 0
}
