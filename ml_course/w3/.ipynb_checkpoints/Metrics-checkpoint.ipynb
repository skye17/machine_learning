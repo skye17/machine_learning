{
 "cells": [
  {
   "cell_type": "code",
   "execution_count": 45,
   "metadata": {
    "collapsed": true
   },
   "outputs": [],
   "source": [
    "import pandas as pd\n",
    "import numpy as np\n",
    "from sklearn import metrics"
   ]
  },
  {
   "cell_type": "code",
   "execution_count": 75,
   "metadata": {
    "collapsed": false
   },
   "outputs": [
    {
     "name": "stdout",
     "output_type": "stream",
     "text": [
      "   true  pred\n",
      "0     1     0\n",
      "1     1     1\n",
      "2     1     1\n",
      "3     0     0\n",
      "4     1     1\n",
      "(200, 2)\n",
      "(200, 5)\n"
     ]
    }
   ],
   "source": [
    "data = pd.read_csv('classification.csv')\n",
    "scores = pd.read_csv('scores.csv')\n",
    "print data.head()\n",
    "print data.shape\n",
    "print scores.shape"
   ]
  },
  {
   "cell_type": "code",
   "execution_count": 47,
   "metadata": {
    "collapsed": false
   },
   "outputs": [
    {
     "name": "stdout",
     "output_type": "stream",
     "text": [
      "43 34 59 64\n",
      "0.558441558442\n",
      "0.421568627451\n"
     ]
    }
   ],
   "source": [
    "tp = sum(data['true']+data['pred'] == 2)\n",
    "tn = sum(data['true']+data['pred'] == 0)\n",
    "fn = sum(data['true']) - tp\n",
    "fp = sum(data['true'] == 0) - tn\n",
    "\n",
    "print tp, fp,fn, tn\n",
    "print tp*1.0/(tp+fp)  #precision\n",
    "print tp*1.0/(tp+fn)  #recall"
   ]
  },
  {
   "cell_type": "code",
   "execution_count": 48,
   "metadata": {
    "collapsed": false
   },
   "outputs": [
    {
     "name": "stdout",
     "output_type": "stream",
     "text": [
      "0.535\n",
      "0.558441558442\n",
      "0.421568627451\n",
      "0.480446927374\n"
     ]
    }
   ],
   "source": [
    "true = data['true']\n",
    "pred = data['pred']\n",
    "accuracy = metrics.accuracy_score(true, pred)\n",
    "precision = metrics.precision_score(true, pred)\n",
    "recall = metrics.recall_score(true, pred)\n",
    "f_score = metrics.f1_score(true, pred)\n",
    "\n",
    "print accuracy\n",
    "print precision\n",
    "print recall\n",
    "print f_score"
   ]
  },
  {
   "cell_type": "code",
   "execution_count": 71,
   "metadata": {
    "collapsed": false
   },
   "outputs": [
    {
     "name": "stdout",
     "output_type": "stream",
     "text": [
      "0.71918767507 0.663165266106 0.635154061625 0.691926770708\n"
     ]
    }
   ],
   "source": [
    "true_scores = scores['true']\n",
    "score_svm = [int(scores['score_svm'][i] >= 0) for i in xrange(scores['score_svm'].size)]\n",
    "log_reg = metrics.roc_auc_score(true_scores, scores['score_logreg'])\n",
    "svm = metrics.roc_auc_score(true_scores, score_svm)\n",
    "knn = metrics.roc_auc_score(true_scores, scores['score_knn'])\n",
    "tree = metrics.roc_auc_score(true_scores, scores['score_tree'])\n",
    "\n",
    "print log_reg, svm, knn, tree"
   ]
  },
  {
   "cell_type": "code",
   "execution_count": 73,
   "metadata": {
    "collapsed": true
   },
   "outputs": [],
   "source": [
    "def get_max_precision(y_true, y_pred, threshold = 0.7):\n",
    "    precision, recall, thresholds = metrics.precision_recall_curve(y_true, y_pred)\n",
    "    bool_idx = recall >= threshold\n",
    "    return max(precision[bool_idx])"
   ]
  },
  {
   "cell_type": "code",
   "execution_count": 76,
   "metadata": {
    "collapsed": false
   },
   "outputs": [
    {
     "name": "stdout",
     "output_type": "stream",
     "text": [
      "0.63025210084 0.622807017544 0.606557377049 0.651785714286\n"
     ]
    }
   ],
   "source": [
    "log_reg_pr = get_max_precision(true_scores, scores['score_logreg'])\n",
    "\n",
    "svm_pr = get_max_precision(true_scores, scores['score_svm'])\n",
    "knn_pr = get_max_precision(true_scores, scores['score_knn'])\n",
    "tree_pr = get_max_precision(true_scores, scores['score_tree'])\n",
    "\n",
    "print log_reg_pr, svm_pr, knn_pr, tree_pr"
   ]
  },
  {
   "cell_type": "code",
   "execution_count": 69,
   "metadata": {
    "collapsed": false
   },
   "outputs": [],
   "source": [
    "\n"
   ]
  },
  {
   "cell_type": "code",
   "execution_count": null,
   "metadata": {
    "collapsed": false
   },
   "outputs": [],
   "source": []
  },
  {
   "cell_type": "code",
   "execution_count": null,
   "metadata": {
    "collapsed": true
   },
   "outputs": [],
   "source": []
  }
 ],
 "metadata": {
  "kernelspec": {
   "display_name": "Python 2",
   "language": "python",
   "name": "python2"
  },
  "language_info": {
   "codemirror_mode": {
    "name": "ipython",
    "version": 2
   },
   "file_extension": ".py",
   "mimetype": "text/x-python",
   "name": "python",
   "nbconvert_exporter": "python",
   "pygments_lexer": "ipython2",
   "version": "2.7.10"
  }
 },
 "nbformat": 4,
 "nbformat_minor": 0
}
