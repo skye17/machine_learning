{
 "cells": [
  {
   "cell_type": "code",
   "execution_count": 172,
   "metadata": {
    "collapsed": true
   },
   "outputs": [],
   "source": [
    "from sklearn import metrics\n",
    "import numpy as np\n",
    "import pandas as pd"
   ]
  },
  {
   "cell_type": "code",
   "execution_count": 173,
   "metadata": {
    "collapsed": false
   },
   "outputs": [],
   "source": [
    "data_l = pd.read_csv('data-logistic.csv', header = None)"
   ]
  },
  {
   "cell_type": "code",
   "execution_count": 174,
   "metadata": {
    "collapsed": false
   },
   "outputs": [
    {
     "data": {
      "text/plain": [
       "(205, 3)"
      ]
     },
     "execution_count": 174,
     "metadata": {},
     "output_type": "execute_result"
    }
   ],
   "source": [
    "data_l.shape"
   ]
  },
  {
   "cell_type": "code",
   "execution_count": 206,
   "metadata": {
    "collapsed": false
   },
   "outputs": [],
   "source": [
    "def sigmoid(z):\n",
    "    return 1./(1+ np.exp(-z))\n",
    "\n",
    "def grad_descent(X, y, k, diff, C = 0.0, w_0 = np.array([10.0, 2.0]), n_iter = 10000):\n",
    "    l = X.shape[0]\n",
    "    w = w_0\n",
    "    rate = (k*1.0)/l\n",
    "    y_v = np.reshape(y, (y.size, 1))\n",
    "    for i in xrange(n_iter):\n",
    "        w_sum = np.dot(X, w)\n",
    "        sigm = sigmoid(np.multiply(-y, w_sum))\n",
    "        sigm_v = np.reshape(sigm, (sigm.size, 1))\n",
    "        new_w = w*(1.0-k*C) +  np.sum(np.multiply(np.multiply(X,y_v), sigm_v), axis = 0)*rate\n",
    "        #print 'New w:' +str(new_w)\n",
    "        #rint 'Diff:' +str(new_w - w)\n",
    "        if np.linalg.norm(new_w - w) <= diff:\n",
    "            w = new_w\n",
    "            break\n",
    "        w = new_w\n",
    "        #print 'Update:' + str(w)\n",
    "    print 'Number of iterarions = ' + str(i)\n",
    "    return w"
   ]
  },
  {
   "cell_type": "code",
   "execution_count": 207,
   "metadata": {
    "collapsed": false
   },
   "outputs": [],
   "source": [
    "target = data_l[0]\n",
    "features = data_l.drop(0, axis = 1)"
   ]
  },
  {
   "cell_type": "code",
   "execution_count": 208,
   "metadata": {
    "collapsed": false
   },
   "outputs": [],
   "source": [
    "k = 0.1\n",
    "C = 10.0\n",
    "diff = np.power(10.0, -5)\n",
    "n_iter = 10000"
   ]
  },
  {
   "cell_type": "code",
   "execution_count": 209,
   "metadata": {
    "collapsed": false
   },
   "outputs": [
    {
     "name": "stdout",
     "output_type": "stream",
     "text": [
      "Number of iterarions = 578\n"
     ]
    }
   ],
   "source": [
    "optim_weight_raw = grad_descent(features, target, k, diff)"
   ]
  },
  {
   "cell_type": "code",
   "execution_count": 210,
   "metadata": {
    "collapsed": false
   },
   "outputs": [
    {
     "name": "stdout",
     "output_type": "stream",
     "text": [
      "1    0.288405\n",
      "2    0.091434\n",
      "dtype: float64\n",
      "0.927\n"
     ]
    }
   ],
   "source": [
    "print optim_weight_raw\n",
    "raw_score = metrics.roc_auc_score(target, sigmoid(np.dot(features, optim_weight_raw)))\n",
    "print round(raw_score, 3)"
   ]
  },
  {
   "cell_type": "code",
   "execution_count": 211,
   "metadata": {
    "collapsed": false
   },
   "outputs": [
    {
     "name": "stdout",
     "output_type": "stream",
     "text": [
      "Number of iterarions = 9\n",
      "1    0.028560\n",
      "2    0.024781\n",
      "dtype: float64\n",
      "0.936\n",
      "Increase = 0.00961904761905\n"
     ]
    }
   ],
   "source": [
    "optim_weight_regular = grad_descent(features, target, k, diff, C = C)\n",
    "print optim_weight_regular\n",
    "regularized_score = metrics.roc_auc_score(target, sigmoid(np.dot(features, optim_weight_regular)))\n",
    "print round(regularized_score, 3)\n",
    "print 'Increase = ' + str(regularized_score - raw_score)"
   ]
  },
  {
   "cell_type": "code",
   "execution_count": null,
   "metadata": {
    "collapsed": false
   },
   "outputs": [],
   "source": []
  },
  {
   "cell_type": "code",
   "execution_count": null,
   "metadata": {
    "collapsed": false
   },
   "outputs": [],
   "source": []
  },
  {
   "cell_type": "code",
   "execution_count": null,
   "metadata": {
    "collapsed": true
   },
   "outputs": [],
   "source": []
  }
 ],
 "metadata": {
  "kernelspec": {
   "display_name": "Python 2",
   "language": "python",
   "name": "python2"
  },
  "language_info": {
   "codemirror_mode": {
    "name": "ipython",
    "version": 2
   },
   "file_extension": ".py",
   "mimetype": "text/x-python",
   "name": "python",
   "nbconvert_exporter": "python",
   "pygments_lexer": "ipython2",
   "version": "2.7.10"
  }
 },
 "nbformat": 4,
 "nbformat_minor": 0
}
