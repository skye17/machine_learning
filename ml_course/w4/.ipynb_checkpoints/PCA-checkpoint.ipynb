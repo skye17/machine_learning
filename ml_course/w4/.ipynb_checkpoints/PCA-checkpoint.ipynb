{
 "cells": [
  {
   "cell_type": "code",
   "execution_count": 98,
   "metadata": {
    "collapsed": true
   },
   "outputs": [],
   "source": [
    "import pandas as pd\n",
    "import numpy as np\n",
    "from sklearn.decomposition import PCA "
   ]
  },
  {
   "cell_type": "code",
   "execution_count": 99,
   "metadata": {
    "collapsed": false
   },
   "outputs": [],
   "source": [
    "djia = pd.read_csv('djia_index.csv')\n",
    "close_prices = pd.read_csv('close_prices.csv')\n",
    "close_prices_undated = close_prices.drop('date', axis = 1)"
   ]
  },
  {
   "cell_type": "code",
   "execution_count": 100,
   "metadata": {
    "collapsed": false
   },
   "outputs": [
    {
     "data": {
      "text/plain": [
       "(0.89899375558370764, 0.92774295378364013)"
      ]
     },
     "execution_count": 100,
     "metadata": {},
     "output_type": "execute_result"
    }
   ],
   "source": [
    "pca = PCA(n_components = 10)\n",
    "pca.fit(close_prices_undated)\n",
    "k = pca.explained_variance_ratio_\n",
    "sum(k[:3]), sum(k[:4])"
   ]
  },
  {
   "cell_type": "code",
   "execution_count": 101,
   "metadata": {
    "collapsed": false
   },
   "outputs": [
    {
     "name": "stdout",
     "output_type": "stream",
     "text": [
      "(374,)\n"
     ]
    }
   ],
   "source": [
    "new_prices = pca.transform(close_prices_undated)\n",
    "first_component = new_prices[:, 0]\n",
    "print first_component.shape"
   ]
  },
  {
   "cell_type": "code",
   "execution_count": 102,
   "metadata": {
    "collapsed": false
   },
   "outputs": [
    {
     "name": "stdout",
     "output_type": "stream",
     "text": [
      "(374,)\n"
     ]
    },
    {
     "data": {
      "text/plain": [
       "array([[ 1.        ,  0.90965222],\n",
       "       [ 0.90965222,  1.        ]])"
      ]
     },
     "execution_count": 102,
     "metadata": {},
     "output_type": "execute_result"
    }
   ],
   "source": [
    "index = djia['^DJI']\n",
    "print index.shape\n",
    "np.corrcoef(first_component, index)"
   ]
  },
  {
   "cell_type": "code",
   "execution_count": 104,
   "metadata": {
    "collapsed": false
   },
   "outputs": [
    {
     "data": {
      "text/plain": [
       "array([  1.61383840e-02,   1.20644923e-01,  -5.16612711e-02,\n",
       "         5.04842369e-02,  -1.25859933e-01,   1.14089567e-01,\n",
       "         2.33906290e-01,  -6.20513749e-03,   2.51227032e-01,\n",
       "         2.88996029e-01,  -2.64998795e-01,   9.31320168e-02,\n",
       "         9.13948403e-02,   4.69879340e-02,   2.90549417e-02,\n",
       "        -2.61068828e-02,   3.29615584e-01,   7.13897133e-02,\n",
       "         7.62295699e-02,   2.11888868e-01,   2.30922941e-02,\n",
       "         7.77316954e-02,  -7.20594590e-03,   1.89479745e-01,\n",
       "         3.21564017e-01,   5.36834873e-02,   5.79683946e-01,\n",
       "         1.09122230e-04,   8.71614334e-02,  -4.29421420e-02])"
      ]
     },
     "execution_count": 104,
     "metadata": {},
     "output_type": "execute_result"
    }
   ],
   "source": [
    "max(pca.components_[0], key = abs)\n",
    "pca.components_[0]"
   ]
  },
  {
   "cell_type": "code",
   "execution_count": 105,
   "metadata": {
    "collapsed": false
   },
   "outputs": [
    {
     "name": "stdout",
     "output_type": "stream",
     "text": [
      "[  1.61383840e-02   1.20644923e-01  -5.16612711e-02   5.04842369e-02\n",
      "  -1.25859933e-01   1.14089567e-01   2.33906290e-01  -6.20513749e-03\n",
      "   2.51227032e-01   2.88996029e-01  -2.64998795e-01   9.31320168e-02\n",
      "   9.13948403e-02   4.69879340e-02   2.90549417e-02  -2.61068828e-02\n",
      "   3.29615584e-01   7.13897133e-02   7.62295699e-02   2.11888868e-01\n",
      "   2.30922941e-02   7.77316954e-02  -7.20594590e-03   1.89479745e-01\n",
      "   3.21564017e-01   5.36834873e-02   5.79683946e-01   1.09122230e-04\n",
      "   8.71614334e-02  -4.29421420e-02]\n",
      "26\n",
      "Index([u'AXP', u'BA', u'CAT', u'CSCO', u'CVX', u'DD', u'DIS', u'GE', u'GS',\n",
      "       u'HD', u'IBM', u'INTC', u'JNJ', u'JPM', u'KO', u'MCD', u'MMM', u'MRK',\n",
      "       u'MSFT', u'NKE', u'PFE', u'PG', u'T', u'TRV', u'UNH', u'UTX', u'V',\n",
      "       u'VZ', u'WMT', u'XOM'],\n",
      "      dtype='object')\n"
     ]
    }
   ],
   "source": [
    "first = pca.components_[0]\n",
    "print first\n",
    "print np.argmax(first)\n",
    "print close_prices_undated.columns"
   ]
  },
  {
   "cell_type": "code",
   "execution_count": null,
   "metadata": {
    "collapsed": false
   },
   "outputs": [],
   "source": []
  },
  {
   "cell_type": "code",
   "execution_count": null,
   "metadata": {
    "collapsed": false
   },
   "outputs": [],
   "source": []
  },
  {
   "cell_type": "code",
   "execution_count": null,
   "metadata": {
    "collapsed": true
   },
   "outputs": [],
   "source": []
  }
 ],
 "metadata": {
  "kernelspec": {
   "display_name": "Python 2",
   "language": "python",
   "name": "python2"
  },
  "language_info": {
   "codemirror_mode": {
    "name": "ipython",
    "version": 2
   },
   "file_extension": ".py",
   "mimetype": "text/x-python",
   "name": "python",
   "nbconvert_exporter": "python",
   "pygments_lexer": "ipython2",
   "version": "2.7.10"
  }
 },
 "nbformat": 4,
 "nbformat_minor": 0
}
